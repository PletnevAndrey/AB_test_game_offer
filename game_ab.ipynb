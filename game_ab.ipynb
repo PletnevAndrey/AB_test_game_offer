{
 "cells": [
  {
   "cell_type": "markdown",
   "id": "89667e4b",
   "metadata": {},
   "source": [
    "# A/B–тестирование акционных предложений\n",
    "\n",
    "### 1.1 Условие\n",
    "\n",
    "Имеются результаты A/B теста, в котором двум группам пользователей предлагались различные наборы акционных предложений. Известно, что ARPU в тестовой группе выше на 5%, чем в контрольной. При этом в контрольной группе 1928 игроков из 202103 оказались платящими, а в тестовой – 1805 из 202667.\n",
    "\n",
    "Какой набор предложений можно считать лучшим? Какие метрики стоит проанализировать для принятия правильного решения и как?\n",
    "\n",
    "### 1.2 Исходные данные\n",
    "В качестве входных данных имеется файл ab_test.csv с информацией:\n",
    "- user_id - пользователь\n",
    "- revenue - затраты за время проведения АВ теста\n",
    "- testgroup - группа"
   ]
  },
  {
   "cell_type": "code",
   "execution_count": 1,
   "id": "d22dbc22",
   "metadata": {},
   "outputs": [],
   "source": [
    "import pandas as pd\n",
    "import seaborn as sns\n",
    "import scipy\n",
    "import pylab\n",
    "from scipy import stats\n",
    "from scipy.stats import levene, shapiro, chi2_contingency, ttest_ind\n",
    "\n",
    "import matplotlib.pyplot as plt"
   ]
  },
  {
   "cell_type": "code",
   "execution_count": 2,
   "id": "72f68ade",
   "metadata": {},
   "outputs": [],
   "source": [
    "abdf = pd.read_csv(r'C:\\Users\\pletn\\Documents\\notebooks\\final_projects\\1\\ab_test.csv', sep=';')"
   ]
  },
  {
   "cell_type": "markdown",
   "id": "67285148",
   "metadata": {},
   "source": [
    "### 1.3 Разведочный анализ"
   ]
  },
  {
   "cell_type": "code",
   "execution_count": 3,
   "id": "2fa6056f",
   "metadata": {},
   "outputs": [
    {
     "data": {
      "text/html": [
       "<div>\n",
       "<style scoped>\n",
       "    .dataframe tbody tr th:only-of-type {\n",
       "        vertical-align: middle;\n",
       "    }\n",
       "\n",
       "    .dataframe tbody tr th {\n",
       "        vertical-align: top;\n",
       "    }\n",
       "\n",
       "    .dataframe thead th {\n",
       "        text-align: right;\n",
       "    }\n",
       "</style>\n",
       "<table border=\"1\" class=\"dataframe\">\n",
       "  <thead>\n",
       "    <tr style=\"text-align: right;\">\n",
       "      <th></th>\n",
       "      <th>user_id</th>\n",
       "      <th>revenue</th>\n",
       "      <th>testgroup</th>\n",
       "    </tr>\n",
       "  </thead>\n",
       "  <tbody>\n",
       "    <tr>\n",
       "      <th>0</th>\n",
       "      <td>1</td>\n",
       "      <td>0</td>\n",
       "      <td>b</td>\n",
       "    </tr>\n",
       "    <tr>\n",
       "      <th>1</th>\n",
       "      <td>2</td>\n",
       "      <td>0</td>\n",
       "      <td>a</td>\n",
       "    </tr>\n",
       "    <tr>\n",
       "      <th>2</th>\n",
       "      <td>3</td>\n",
       "      <td>0</td>\n",
       "      <td>a</td>\n",
       "    </tr>\n",
       "    <tr>\n",
       "      <th>3</th>\n",
       "      <td>4</td>\n",
       "      <td>0</td>\n",
       "      <td>b</td>\n",
       "    </tr>\n",
       "    <tr>\n",
       "      <th>4</th>\n",
       "      <td>5</td>\n",
       "      <td>0</td>\n",
       "      <td>b</td>\n",
       "    </tr>\n",
       "  </tbody>\n",
       "</table>\n",
       "</div>"
      ],
      "text/plain": [
       "   user_id  revenue testgroup\n",
       "0        1        0         b\n",
       "1        2        0         a\n",
       "2        3        0         a\n",
       "3        4        0         b\n",
       "4        5        0         b"
      ]
     },
     "execution_count": 3,
     "metadata": {},
     "output_type": "execute_result"
    }
   ],
   "source": [
    "abdf.head()"
   ]
  },
  {
   "cell_type": "code",
   "execution_count": 4,
   "id": "2b003c1a",
   "metadata": {},
   "outputs": [
    {
     "name": "stdout",
     "output_type": "stream",
     "text": [
      "<class 'pandas.core.frame.DataFrame'>\n",
      "RangeIndex: 404770 entries, 0 to 404769\n",
      "Data columns (total 3 columns):\n",
      " #   Column     Non-Null Count   Dtype \n",
      "---  ------     --------------   ----- \n",
      " 0   user_id    404770 non-null  int64 \n",
      " 1   revenue    404770 non-null  int64 \n",
      " 2   testgroup  404770 non-null  object\n",
      "dtypes: int64(2), object(1)\n",
      "memory usage: 9.3+ MB\n"
     ]
    }
   ],
   "source": [
    "abdf.info()"
   ]
  },
  {
   "cell_type": "code",
   "execution_count": 5,
   "id": "125f2154",
   "metadata": {},
   "outputs": [
    {
     "name": "stdout",
     "output_type": "stream",
     "text": [
      "<class 'pandas.core.frame.DataFrame'>\n",
      "RangeIndex: 404770 entries, 0 to 404769\n",
      "Data columns (total 3 columns):\n",
      " #   Column     Non-Null Count   Dtype \n",
      "---  ------     --------------   ----- \n",
      " 0   user_id    404770 non-null  int64 \n",
      " 1   revenue    404770 non-null  int64 \n",
      " 2   testgroup  404770 non-null  object\n",
      "dtypes: int64(2), object(1)\n",
      "memory usage: 9.3+ MB\n"
     ]
    }
   ],
   "source": [
    "abdf.info()"
   ]
  },
  {
   "cell_type": "code",
   "execution_count": 6,
   "id": "14938e1b",
   "metadata": {},
   "outputs": [
    {
     "data": {
      "text/plain": [
       "False"
      ]
     },
     "execution_count": 6,
     "metadata": {},
     "output_type": "execute_result"
    }
   ],
   "source": [
    "# Имеются ли дубликаты по user_id\n",
    "\n",
    "abdf.shape[0] != abdf.user_id.nunique()"
   ]
  },
  {
   "cell_type": "code",
   "execution_count": 7,
   "id": "5f3975cf",
   "metadata": {},
   "outputs": [
    {
     "data": {
      "text/html": [
       "<div>\n",
       "<style scoped>\n",
       "    .dataframe tbody tr th:only-of-type {\n",
       "        vertical-align: middle;\n",
       "    }\n",
       "\n",
       "    .dataframe tbody tr th {\n",
       "        vertical-align: top;\n",
       "    }\n",
       "\n",
       "    .dataframe thead th {\n",
       "        text-align: right;\n",
       "    }\n",
       "</style>\n",
       "<table border=\"1\" class=\"dataframe\">\n",
       "  <thead>\n",
       "    <tr style=\"text-align: right;\">\n",
       "      <th></th>\n",
       "      <th>testgroup</th>\n",
       "      <th>all_users</th>\n",
       "      <th>paiment_users</th>\n",
       "      <th>cr</th>\n",
       "    </tr>\n",
       "  </thead>\n",
       "  <tbody>\n",
       "    <tr>\n",
       "      <th>0</th>\n",
       "      <td>a</td>\n",
       "      <td>202103</td>\n",
       "      <td>1928</td>\n",
       "      <td>0.009540</td>\n",
       "    </tr>\n",
       "    <tr>\n",
       "      <th>1</th>\n",
       "      <td>b</td>\n",
       "      <td>202667</td>\n",
       "      <td>1805</td>\n",
       "      <td>0.008906</td>\n",
       "    </tr>\n",
       "  </tbody>\n",
       "</table>\n",
       "</div>"
      ],
      "text/plain": [
       "  testgroup  all_users  paiment_users        cr\n",
       "0         a     202103           1928  0.009540\n",
       "1         b     202667           1805  0.008906"
      ]
     },
     "execution_count": 7,
     "metadata": {},
     "output_type": "execute_result"
    }
   ],
   "source": [
    "# Количество всех пользователей, платящих пользователей и конверсия в каждой группе \n",
    "\n",
    "cr_table = abdf.groupby('testgroup').agg({'user_id' : 'count'}).rename(columns = {'user_id' : 'all_users'})\\\n",
    "    .merge(\\\n",
    "           abdf.query('revenue > 0').groupby('testgroup').agg({'user_id' : 'count'})\\\n",
    "           .rename(columns = {'user_id' : 'paiment_users'}), \n",
    "           how = 'left', \n",
    "           on = 'testgroup')\\\n",
    "    .reset_index()\n",
    "cr_table['cr'] = cr_table.paiment_users / cr_table.all_users\n",
    "cr_table"
   ]
  },
  {
   "cell_type": "code",
   "execution_count": 8,
   "id": "021b6552",
   "metadata": {},
   "outputs": [
    {
     "data": {
      "text/html": [
       "<div>\n",
       "<style scoped>\n",
       "    .dataframe tbody tr th:only-of-type {\n",
       "        vertical-align: middle;\n",
       "    }\n",
       "\n",
       "    .dataframe tbody tr th {\n",
       "        vertical-align: top;\n",
       "    }\n",
       "\n",
       "    .dataframe thead th {\n",
       "        text-align: right;\n",
       "    }\n",
       "</style>\n",
       "<table border=\"1\" class=\"dataframe\">\n",
       "  <thead>\n",
       "    <tr style=\"text-align: right;\">\n",
       "      <th></th>\n",
       "      <th>testgroup</th>\n",
       "      <th>revenue</th>\n",
       "      <th>all_users</th>\n",
       "      <th>paiment_users</th>\n",
       "      <th>cr</th>\n",
       "      <th>ARPU</th>\n",
       "      <th>ARPPU</th>\n",
       "    </tr>\n",
       "  </thead>\n",
       "  <tbody>\n",
       "    <tr>\n",
       "      <th>0</th>\n",
       "      <td>a</td>\n",
       "      <td>5136189</td>\n",
       "      <td>202103</td>\n",
       "      <td>1928</td>\n",
       "      <td>0.009540</td>\n",
       "      <td>25.413720</td>\n",
       "      <td>2663.998444</td>\n",
       "    </tr>\n",
       "    <tr>\n",
       "      <th>1</th>\n",
       "      <td>b</td>\n",
       "      <td>5421603</td>\n",
       "      <td>202667</td>\n",
       "      <td>1805</td>\n",
       "      <td>0.008906</td>\n",
       "      <td>26.751287</td>\n",
       "      <td>3003.658172</td>\n",
       "    </tr>\n",
       "  </tbody>\n",
       "</table>\n",
       "</div>"
      ],
      "text/plain": [
       "  testgroup  revenue  all_users  paiment_users        cr       ARPU  \\\n",
       "0         a  5136189     202103           1928  0.009540  25.413720   \n",
       "1         b  5421603     202667           1805  0.008906  26.751287   \n",
       "\n",
       "         ARPPU  \n",
       "0  2663.998444  \n",
       "1  3003.658172  "
      ]
     },
     "execution_count": 8,
     "metadata": {},
     "output_type": "execute_result"
    }
   ],
   "source": [
    "# Посчитаем показатели ARPPU и ARPU в каждой группе\n",
    "\n",
    "revenue_table = abdf.groupby('testgroup').agg({'revenue' : 'sum'})\\\n",
    "    .merge(cr_table, how = 'left', on = 'testgroup')\n",
    "revenue_table['ARPU'] = revenue_table.revenue / revenue_table.all_users\n",
    "revenue_table['ARPPU'] = revenue_table.revenue / revenue_table.paiment_users \n",
    "revenue_table"
   ]
  },
  {
   "cell_type": "code",
   "execution_count": 9,
   "id": "85e0e9ef",
   "metadata": {},
   "outputs": [
    {
     "data": {
      "text/html": [
       "<div>\n",
       "<style scoped>\n",
       "    .dataframe tbody tr th:only-of-type {\n",
       "        vertical-align: middle;\n",
       "    }\n",
       "\n",
       "    .dataframe tbody tr th {\n",
       "        vertical-align: top;\n",
       "    }\n",
       "\n",
       "    .dataframe thead th {\n",
       "        text-align: right;\n",
       "    }\n",
       "</style>\n",
       "<table border=\"1\" class=\"dataframe\">\n",
       "  <thead>\n",
       "    <tr style=\"text-align: right;\">\n",
       "      <th></th>\n",
       "      <th>revenue</th>\n",
       "      <th>all_users</th>\n",
       "      <th>paiment_users</th>\n",
       "      <th>cr</th>\n",
       "      <th>ARPU</th>\n",
       "      <th>ARPPU</th>\n",
       "    </tr>\n",
       "  </thead>\n",
       "  <tbody>\n",
       "    <tr>\n",
       "      <th>0</th>\n",
       "      <td>5136189.00</td>\n",
       "      <td>202103.00</td>\n",
       "      <td>1928.00</td>\n",
       "      <td>0.009540</td>\n",
       "      <td>25.413720</td>\n",
       "      <td>2663.998444</td>\n",
       "    </tr>\n",
       "    <tr>\n",
       "      <th>1</th>\n",
       "      <td>5421603.00</td>\n",
       "      <td>202667.00</td>\n",
       "      <td>1805.00</td>\n",
       "      <td>0.008906</td>\n",
       "      <td>26.751287</td>\n",
       "      <td>3003.658172</td>\n",
       "    </tr>\n",
       "    <tr>\n",
       "      <th>% b to a</th>\n",
       "      <td>5.56</td>\n",
       "      <td>0.28</td>\n",
       "      <td>-6.38</td>\n",
       "      <td>-6.640000</td>\n",
       "      <td>5.260000</td>\n",
       "      <td>12.750000</td>\n",
       "    </tr>\n",
       "  </tbody>\n",
       "</table>\n",
       "</div>"
      ],
      "text/plain": [
       "             revenue  all_users  paiment_users        cr       ARPU  \\\n",
       "0         5136189.00  202103.00        1928.00  0.009540  25.413720   \n",
       "1         5421603.00  202667.00        1805.00  0.008906  26.751287   \n",
       "% b to a        5.56       0.28          -6.38 -6.640000   5.260000   \n",
       "\n",
       "                ARPPU  \n",
       "0         2663.998444  \n",
       "1         3003.658172  \n",
       "% b to a    12.750000  "
      ]
     },
     "execution_count": 9,
     "metadata": {},
     "output_type": "execute_result"
    }
   ],
   "source": [
    "# Относитальное изменение метрик в группах:\n",
    "\n",
    "b_to_a_metrics = revenue_table.drop(labels = ['testgroup'], axis=1)\n",
    "\n",
    "b_to_a_metrics.loc['% b to a'] = round((b_to_a_metrics.iloc[1] / b_to_a_metrics.iloc[0] - 1) * 100, 2)\n",
    "b_to_a_metrics"
   ]
  },
  {
   "cell_type": "code",
   "execution_count": 29,
   "id": "4e803bd6",
   "metadata": {},
   "outputs": [
    {
     "data": {
      "image/png": "[encoded data removed]",
      "text/plain": [
       "<Figure size 1152x216 with 1 Axes>"
      ]
     },
     "metadata": {},
     "output_type": "display_data"
    }
   ],
   "source": [
    "# Посмотрим на распределения ARPPU для контрольной и тестовой группы\n",
    "\n",
    "sns.set(rc={'figure.figsize':(16,3)})\n",
    "colors = ['red', 'blue']\n",
    "sns.set_palette(colors)\n",
    "sns.boxplot(data = abdf, x = abdf.query('revenue > 0').revenue, y = abdf['testgroup'], orient = 'h',\n",
    "           order=[\"a\", \"b\"]);"
   ]
  },
  {
   "cell_type": "code",
   "execution_count": 11,
   "id": "9b1c772e",
   "metadata": {},
   "outputs": [
    {
     "data": {
      "text/plain": [
       "123"
      ]
     },
     "execution_count": 11,
     "metadata": {},
     "output_type": "execute_result"
    }
   ],
   "source": [
    "# Мы видим, что в группе А имеются пользователи, которые на порядок потратили больше, чем все остальные в группах А и В.\n",
    "# Посчитаем количество таких пользователей. Далее будем называть ТОП пользователи. \n",
    "\n",
    "abdf.query('revenue > 35000').shape[0]"
   ]
  },
  {
   "cell_type": "code",
   "execution_count": 12,
   "id": "ceff2aea",
   "metadata": {},
   "outputs": [
    {
     "data": {
      "text/plain": [
       "'6.38%'"
      ]
     },
     "execution_count": 12,
     "metadata": {},
     "output_type": "execute_result"
    }
   ],
   "source": [
    "# Процент ТОП пользователей в группе А.\n",
    "\n",
    "str(round (123 / 1928 * 100, 2)) + '%'"
   ]
  },
  {
   "cell_type": "code",
   "execution_count": 13,
   "id": "237b1b66",
   "metadata": {},
   "outputs": [
    {
     "data": {
      "text/plain": [
       "'Процент потречанных денег ТОП пользователей по отношению ко всей группе А = 89.37%'"
      ]
     },
     "execution_count": 13,
     "metadata": {},
     "output_type": "execute_result"
    }
   ],
   "source": [
    "\"Процент потречанных денег ТОП пользователей по отношению ко всей группе А = \" +\\\n",
    "str(round(abdf.query('revenue > 35000')['revenue'].sum()\\\n",
    "          / abdf.query('testgroup == \"a\"')['revenue'].sum() \n",
    "          * 100, 2))\\\n",
    "+ '%'"
   ]
  },
  {
   "cell_type": "code",
   "execution_count": 14,
   "id": "56e6e209",
   "metadata": {},
   "outputs": [
    {
     "data": {
      "image/png": "[encoded data removed]",
      "text/plain": [
       "<Figure size 360x360 with 1 Axes>"
      ]
     },
     "metadata": {
      "needs_background": "light"
     },
     "output_type": "display_data"
    }
   ],
   "source": [
    "# 123 пользователя или 6,38% от всей группы А потратили 89,37% всех трат всей группы А. Исключать ТОП пользователей не будем.\n",
    "# Сравним с распределением трат пользователей в группе В.\n",
    "\n",
    "sns.displot(abdf.query('revenue > 0 & testgroup == \"b\"')['revenue']);"
   ]
  },
  {
   "cell_type": "code",
   "execution_count": 15,
   "id": "bfc719cd",
   "metadata": {},
   "outputs": [
    {
     "data": {
      "image/png": "[encoded data removed]",
      "text/plain": [
       "<Figure size 360x360 with 1 Axes>"
      ]
     },
     "metadata": {
      "needs_background": "light"
     },
     "output_type": "display_data"
    }
   ],
   "source": [
    "# Так же посмотрим на распределение трат пользователей в группе А без учета ТОП пользователей\n",
    "\n",
    "sns.displot(abdf.query('revenue < 35000 & testgroup == \"a\" & revenue > 0')['revenue']);"
   ]
  },
  {
   "cell_type": "code",
   "execution_count": 16,
   "id": "9473b34d",
   "metadata": {},
   "outputs": [],
   "source": [
    "# Создадим массивы данных для дальнейшего анализа\n",
    "\n",
    "ARPU_a = abdf.query('testgroup == \"a\"')['revenue']\n",
    "ARPU_b = abdf.query('testgroup == \"b\"')['revenue']\n",
    "ARPPU_a = abdf.query('revenue > 0 & testgroup == \"a\"')['revenue']\n",
    "ARPPU_b = abdf.query('revenue > 0 & testgroup == \"b\"')['revenue']\n",
    "cr_table_chi2 = cr_table[['all_users', 'paiment_users']]"
   ]
  },
  {
   "cell_type": "markdown",
   "id": "41b59f39",
   "metadata": {},
   "source": [
    "### 1.3.1 Результаты разведочного анализа: \n",
    "\n",
    "- Группа А содержит 202103 пользователя, из которых 1928 платящих, конверсия 0.954%. Группа А содержит 202667 пользователя, из которых 1805 платящих, конверсия 0.891%. В тестовой группе конверсия снизилась на 6.64%.\n",
    "- ARPPU увеличился с 2664 (А) до 3004 (В) или на 12.75%. \n",
    "- ARPU увеличился с 25.41 (А) до 26.75 (В) или на 5.26%. \n",
    "- В группе А присутствует группа ТОП пользоветелей (123 пользователя или 6.38% от общего числа группы А), которые принесли 89,37% дохода от всей группы А. Считать их выбросами и исключать из анализа не будем.\n",
    "- Поведение пользователей в группе А, без учета ТОП пользователей, похоже на поведение пользователей в группе В - распределение затрат платящих пользователей равномерное в диапазоне от 200 до 400 для пользователей в группе А и от 2000 до 4000 для пользователей в группе В. \n",
    "\n",
    "### 1.4 Выбор и расчет метрик.\n",
    "\n",
    "По имеющимся данным мы можем определить:\n",
    "- ARPU - средний доход принесенный пользователем \n",
    "- ARPPU - средний доход с платящего пользователя \n",
    "- CR -конверсию в покупку\n",
    "\n",
    "### 1.5 Формирование гипитез и выбор уровня значимости\n",
    "\n",
    "# ARPU = CR * ARPPU\n",
    "\n",
    "Для начала проверим гипотезу самой верхнеуровневой метрики, которую можем достать из имеющихся данных:\n",
    "1. Н0: ARPU_A = ARPU_B, H1: ARPU_A < ARPU_B. \n",
    "\n",
    "В случае невозможноси отклонить Н0 далее декомпозируем метрику на две компоненты ARPPU и CR и проверим следующие гипотезы:\n",
    "\n",
    "2. Н0: ARPPU_A = ARPPU_B. H1: ARPPU_A < ARPPU_B.\n",
    "3. Н0: CR_A = CR_B. H1: CR_A > CR_B.\n",
    "\n",
    "Уровень значимости α = 0.05\n",
    "\n",
    "### 1.6 Выбор статистических тестов\n",
    "1. ARPU - среднее, оценим возможность применения t-test. \n",
    "2. ARPPU - среднее, оценим возможность применения t-test. \n",
    "3. CR - категориальная переменная, будем использовать критерий хи-квадрат.\n",
    "\n",
    "Для оценки возможности применения t-test убедимся:\n",
    "1. В гомогенности дисперсий с помощью критерия Левена α = 0.05.\n",
    "2. Нормальность будем проверять с помощью теста Шапиро-Уилка α = 0.05."
   ]
  },
  {
   "cell_type": "code",
   "execution_count": 40,
   "id": "32a686ee",
   "metadata": {},
   "outputs": [
    {
     "data": {
      "text/plain": [
       "LeveneResult(statistic=0.3896289474701388, pvalue=0.5324948591043842)"
      ]
     },
     "execution_count": 40,
     "metadata": {},
     "output_type": "execute_result"
    }
   ],
   "source": [
    "# Проверим гомогенность дисперсий для ARPU\n",
    "\n",
    "levene(ARPU_a, ARPU_b)"
   ]
  },
  {
   "cell_type": "code",
   "execution_count": 59,
   "id": "9c6fa446",
   "metadata": {},
   "outputs": [
    {
     "data": {
      "image/png": "[encoded data removed]",
      "text/plain": [
       "<Figure size 1197.85x576 with 1 Axes>"
      ]
     },
     "metadata": {},
     "output_type": "display_data"
    }
   ],
   "source": [
    "# Проверим нормальность распределения средних в группах А и В\n",
    "\n",
    "ARPU_mean_a = []\n",
    "ARPU_mean_b = []\n",
    "\n",
    "for i in range(5000):\n",
    "    ARPU_mean_a.append(ARPU_a.sample(len(ARPU_a), replace = True).mean())\n",
    "    ARPU_mean_b.append(ARPU_b.sample(len(ARPU_b), replace = True).mean())\n",
    "\n",
    "a = pd.DataFrame(data = ARPU_mean_a, columns = ['mean'])\n",
    "b = pd.DataFrame(data = ARPU_mean_b, columns = ['mean'])\n",
    "a['grp'] = 'a'\n",
    "b['grp'] = 'b'\n",
    "AB_means = pd.concat([a, b]).reset_index()\n",
    "\n",
    "sns.displot(AB_means, x='mean', hue='grp', height=8, aspect=2, kde = True);"
   ]
  },
  {
   "cell_type": "code",
   "execution_count": 60,
   "id": "170e3ea5",
   "metadata": {},
   "outputs": [
    {
     "data": {
      "text/plain": [
       "ShapiroResult(statistic=0.9996057152748108, pvalue=0.4311487078666687)"
      ]
     },
     "execution_count": 60,
     "metadata": {},
     "output_type": "execute_result"
    }
   ],
   "source": [
    "shapiro(ARPU_mean_a)"
   ]
  },
  {
   "cell_type": "code",
   "execution_count": 61,
   "id": "8c7e0e53",
   "metadata": {},
   "outputs": [
    {
     "data": {
      "text/plain": [
       "ShapiroResult(statistic=0.9993993639945984, pvalue=0.10065769404172897)"
      ]
     },
     "execution_count": 61,
     "metadata": {},
     "output_type": "execute_result"
    }
   ],
   "source": [
    "shapiro(ARPU_mean_b)"
   ]
  },
  {
   "cell_type": "markdown",
   "id": "bd9df0b9",
   "metadata": {},
   "source": [
    "Среднее ARPU в группах А и В распределены нормально и имеют гомогенные дисперсии, в связи с этим для проверки 1ой гипотезы будем использовать t-test.\n",
    "\n",
    "### 1.7 Статистическая проверка гипотез\n",
    "\n",
    "### 1.7.1 Проверка гипотезы Н0: ARPU_A = ARPU_B. H1: ARPU(A) < ARPU(B)."
   ]
  },
  {
   "cell_type": "code",
   "execution_count": 62,
   "id": "1fa20662",
   "metadata": {},
   "outputs": [
    {
     "data": {
      "text/plain": [
       "Ttest_indResult(statistic=-0.6242026493616787, pvalue=0.532494858971837)"
      ]
     },
     "execution_count": 62,
     "metadata": {},
     "output_type": "execute_result"
    }
   ],
   "source": [
    "ttest_ind(ARPU_a, ARPU_b)"
   ]
  },
  {
   "cell_type": "markdown",
   "id": "cc96ec5e",
   "metadata": {},
   "source": [
    "*Вывод:* p-value > α остаемся при Н0: ARPU_A = ARPU_B. Необходимо проверить гипотезы 2 и 3.\n",
    "\n",
    "### 1.7.2 Проверка гипотезы Н0: ARPPU_A = ARPPU_B. H1: ARPPU(A) < ARPPU(B)."
   ]
  },
  {
   "cell_type": "code",
   "execution_count": 22,
   "id": "d16a5b4a",
   "metadata": {},
   "outputs": [
    {
     "data": {
      "text/plain": [
       "LeveneResult(statistic=80.85567421779912, pvalue=3.779689868667878e-19)"
      ]
     },
     "execution_count": 22,
     "metadata": {},
     "output_type": "execute_result"
    }
   ],
   "source": [
    "# Проверим гомогенность дисперсий для ARPU\n",
    "\n",
    "levene(ARPPU_a, ARPPU_b)"
   ]
  },
  {
   "cell_type": "code",
   "execution_count": 23,
   "id": "61c54401",
   "metadata": {},
   "outputs": [
    {
     "data": {
      "image/png": "[encoded data removed]",
      "text/plain": [
       "<Figure size 1197.85x576 with 1 Axes>"
      ]
     },
     "metadata": {
      "needs_background": "light"
     },
     "output_type": "display_data"
    }
   ],
   "source": [
    "# Проверим нормальность распределения средних в группах А и В\n",
    "\n",
    "ARPPU_mean_a = []\n",
    "ARPPU_mean_b = []\n",
    "\n",
    "for i in range(5000):\n",
    "    ARPPU_mean_a.append(ARPPU_a.sample(len(ARPPU_a), replace = True).mean())\n",
    "    ARPPU_mean_b.append(ARPPU_b.sample(len(ARPPU_b), replace = True).mean())\n",
    "    \n",
    "a = pd.DataFrame(data = ARPPU_mean_a, columns = ['mean'])\n",
    "b = pd.DataFrame(data = ARPPU_mean_b, columns = ['mean'])\n",
    "a['grp'] = 'a'\n",
    "b['grp'] = 'b'\n",
    "AB_means = pd.concat([a, b]).reset_index()\n",
    "\n",
    "sns.displot(AB_means, x='mean', hue='grp', height=8, aspect=2, kde = True);"
   ]
  },
  {
   "cell_type": "code",
   "execution_count": 45,
   "id": "5fffe5e0",
   "metadata": {},
   "outputs": [
    {
     "data": {
      "text/plain": [
       "ShapiroResult(statistic=0.9985747933387756, pvalue=0.00019627985602710396)"
      ]
     },
     "execution_count": 45,
     "metadata": {},
     "output_type": "execute_result"
    }
   ],
   "source": [
    "shapiro(ARPPU_mean_a)"
   ]
  },
  {
   "cell_type": "code",
   "execution_count": 46,
   "id": "e5d73f5c",
   "metadata": {},
   "outputs": [
    {
     "data": {
      "text/plain": [
       "ShapiroResult(statistic=0.9997641444206238, pvalue=0.879988431930542)"
      ]
     },
     "execution_count": 46,
     "metadata": {},
     "output_type": "execute_result"
    }
   ],
   "source": [
    "shapiro(ARPPU_mean_b)"
   ]
  },
  {
   "cell_type": "markdown",
   "id": "2b769acd",
   "metadata": {},
   "source": [
    "Группы имеют отличную дисперсию и среднее в группе А распределено не нормально , это так же видно и визуально, присутствуют сильные \"провалы\" на графике распредления из-за наличия пользователей, которые потратили существенно больше остальных. Таких пользователей \"выбросами\" считать нельзя, поэтому не будем их удалять из выборки. При этом распредление средних ARPPU в группе В нормальное. Тем не менее, в связи с тем, что не удволетворяется критерии для применения t-test, для проверки гипотезы о равенстве ARPPU будем использовать bootstrap."
   ]
  },
  {
   "cell_type": "code",
   "execution_count": 104,
   "id": "1688c3cf",
   "metadata": {},
   "outputs": [
    {
     "data": {
      "image/png": "[encoded data removed]",
      "text/plain": [
       "<Figure size 360x360 with 1 Axes>"
      ]
     },
     "metadata": {},
     "output_type": "display_data"
    }
   ],
   "source": [
    "ARPPU_mean_delta = []\n",
    "\n",
    "for i in range(10000):\n",
    "    ARPPU_mean_delta.append(ARPPU_a.sample(len(ARPPU_a), replace = True).mean() - \\\n",
    "                            ARPPU_b.sample(len(ARPPU_b), replace = True).mean())\n",
    "\n",
    "sns.displot(ARPPU_mean_delta, color = 'orange', kde = True);"
   ]
  },
  {
   "cell_type": "code",
   "execution_count": 105,
   "id": "9de9e9f4",
   "metadata": {},
   "outputs": [
    {
     "data": {
      "text/plain": [
       "0   -0.943065\n",
       "Name: 0.95, dtype: float64"
      ]
     },
     "execution_count": 105,
     "metadata": {},
     "output_type": "execute_result"
    }
   ],
   "source": [
    "pd.DataFrame(ARPPU_mean_delta).quantile(0.95)"
   ]
  },
  {
   "cell_type": "markdown",
   "id": "520bff3c",
   "metadata": {},
   "source": [
    "*Вывод:* Так как 0 не попадает в границы доверительного интервала ($-\\infty$; - 0,94] принимаем H1: ARPPU(A) < ARPPU(B).\n",
    "\n",
    "### 1.7.3. Проверка гипотезы Н0: CR_A = CR_B. H1: CR_A > CR_B."
   ]
  },
  {
   "cell_type": "code",
   "execution_count": 106,
   "id": "f0e673ca",
   "metadata": {},
   "outputs": [
    {
     "data": {
      "text/plain": [
       "(4.294148751290091,\n",
       " 0.03824373651044168,\n",
       " 1,\n",
       " array([[202166.51498275,   1864.48501725],\n",
       "        [202603.48501725,   1868.51498275]]))"
      ]
     },
     "execution_count": 106,
     "metadata": {},
     "output_type": "execute_result"
    }
   ],
   "source": [
    "chi2_contingency(cr_table_chi2)"
   ]
  },
  {
   "cell_type": "markdown",
   "id": "e528fd25",
   "metadata": {},
   "source": [
    "*Вывод:* p-value < α. Принимаем H1: CR_A > CR_B.\n",
    "\n",
    "### 1.7.4. Итоговый результат проверки гипотез:\n",
    "1. Н0: ARPU_A = ARPU_B\n",
    "2. H1: ARPPU_A < ARPPU_B\n",
    "3. H1: CR_A > CR_B\n",
    "\n",
    "\n",
    "### 1.8. Выводы:\n",
    "\n",
    "Проведен статистический анализ данных A/B теста акционного предложения.\n",
    "\n",
    "**Сформулированы три гипотезы:**\n",
    "1. Н0: ARPU_A = ARPU_B. H1: ARPU_A < ARPU_B.\n",
    "2. Н0: ARPPU_A = ARPPU_B. H1: ARPPU_A < ARPPU_B.\n",
    "3. Н0: CR_A = CR_B. H1: CR_A > CR_B.\n",
    "\n",
    "**Проверка гипотез осуществлялась для уровня значимости:**\n",
    "- α = 0.05\n",
    "\n",
    "**Выбраны тесты для проверки гипотез:**\n",
    "1. Для ARPU выбран t-test. \n",
    "2. Для ARPPU выбран bootstrap. \n",
    "3. Для CR выбран критерий хи-квадрат.\n",
    "\n",
    "**Результаты проверки гипотез:**\n",
    "1. p-value > α. Остаемся при Н0: ARPU_A = ARPU_B.\n",
    "2. p-value < α. Принимается H1: ARPPU_A < ARPPU_B.\n",
    "3. p-value < α. Принимается H1: CR_A > CR_B. \n",
    "\n",
    "**Итоговый вывод:**\n",
    "По результатам A/B теста новое акционное предложение увеличило ARPPU и одновременно уменьшило конверсию CR, верхнеуровневая метрика ARPU не изменилась. При равных ARPU лучше выбрать новое акционное предложение (группа В), т.к. кардинально изменилось поведение пользователей. Если в группе А 89,37% дохода принесли ТОП пользователей 6.38%, то в группе В распределение трат платящих пользователей равномерное в диапазоне от 2000 до 4000 рублей. Данная бизнес-модель более диверсифицирована и дает больше возможностей для дальнейшего развития бизнеса."
   ]
  },
  {
   "cell_type": "code",
   "execution_count": null,
   "id": "d267b88c",
   "metadata": {},
   "outputs": [],
   "source": []
  }
 ],
 "metadata": {
  "kernelspec": {
   "display_name": "Python 3 (ipykernel)",
   "language": "python",
   "name": "python3"
  },
  "language_info": {
   "codemirror_mode": {
    "name": "ipython",
    "version": 3
   },
   "file_extension": ".py",
   "mimetype": "text/x-python",
   "name": "python",
   "nbconvert_exporter": "python",
   "pygments_lexer": "ipython3",
   "version": "3.10.4"
  }
 },
 "nbformat": 4,
 "nbformat_minor": 5
}
